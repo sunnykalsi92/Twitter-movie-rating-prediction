{
 "cells": [
  {
   "cell_type": "code",
   "execution_count": 1,
   "metadata": {},
   "outputs": [
    {
     "name": "stdout",
     "output_type": "stream",
     "text": [
      "Finished\n"
     ]
    }
   ],
   "source": [
    "import tweepy\n",
    "import csv #Import csv\n",
    "auth = tweepy.auth.OAuthHandler('XXXXXXXXXXXXXXXX', 'XXXXXXXXXXXXXXXXXXXXXXXXXX')\n",
    "auth.set_access_token('XXXXXXXXXXXXXXXXXXXXXXXXXXXXXX', 'XXXXXXXXXXXXXXXXXXXXXXXXXXXX')\n",
    "\n",
    "api = tweepy.API(auth)\n",
    "\n",
    "# Open/create a file to append data to\n",
    "csvFile = open('upload.csv', 'a')\n",
    "\n",
    "#Use csv writer\n",
    "csvWriter = csv.writer(csvFile)\n",
    "csvWriter.writerow(['DATE','ACCOUNT','Transcript'])\n",
    "for tweet in tweepy.Cursor(api.search,\n",
    "                           q = \"#uploadtv -filter:retweets\",\n",
    "                           since = \"2020-04-28\",\n",
    "                           until = \"2020-05-07\",\n",
    "                           lang = \"en\", count='100', tweet_mode='extended').items(10000):\n",
    "    #u = api.get_user(tweet.id)\n",
    "    # Write a row to the CSV file. I use encode UTF-8\n",
    "    csvWriter.writerow([tweet.created_at, tweet.author._json['screen_name'], tweet.full_text.encode('utf-8')])\n",
    "csvFile.close()\n",
    "print(\"Finished\")"
   ]
  },
  {
   "cell_type": "code",
   "execution_count": null,
   "metadata": {},
   "outputs": [],
   "source": []
  }
 ],
 "metadata": {
  "kernelspec": {
   "display_name": "Python 3",
   "language": "python",
   "name": "python3"
  },
  "language_info": {
   "codemirror_mode": {
    "name": "ipython",
    "version": 3
   },
   "file_extension": ".py",
   "mimetype": "text/x-python",
   "name": "python",
   "nbconvert_exporter": "python",
   "pygments_lexer": "ipython3",
   "version": "3.7.4"
  }
 },
 "nbformat": 4,
 "nbformat_minor": 2
}
